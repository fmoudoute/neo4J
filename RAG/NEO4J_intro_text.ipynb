{
 "cells": [
  {
   "cell_type": "markdown",
   "source": [
    "# Knowledge Graph for RAG - Preparing text for RAG\n",
    "This project uses the Movie Database - it is an introduction to Neo4J and Cypher language.\n",
    "https://learn.deeplearning.ai/courses/knowledge-graphs-rag/lesson/4/preparing-text-for-rag\n",
    "## Importing libs"
   ],
   "metadata": {
    "collapsed": false
   },
   "id": "3b8b78e7c0705949"
  },
  {
   "cell_type": "code",
   "execution_count": 49,
   "id": "initial_id",
   "metadata": {
    "collapsed": true,
    "ExecuteTime": {
     "end_time": "2024-08-04T02:51:24.202897Z",
     "start_time": "2024-08-04T02:51:24.199119Z"
    }
   },
   "outputs": [],
   "source": [
    "from dotenv import load_dotenv \n",
    "import os\n",
    "from langchain_community.graphs import Neo4jGraph"
   ]
  },
  {
   "cell_type": "markdown",
   "source": [
    "# Environment variable"
   ],
   "metadata": {
    "collapsed": false
   },
   "id": "6864e28f317e1239"
  },
  {
   "cell_type": "code",
   "outputs": [],
   "source": [
    "from dotenv import load_dotenv\n",
    "import os\n",
    "\n",
    "load_dotenv()\n",
    "\n",
    "NEO4J_URI = os.getenv('NEO4J_URI')\n",
    "NEO4J_USERNAME = os.getenv('NEO4J_USERNAME')\n",
    "NEO4J_PASSWORD = os.getenv('NEO4J_PASSWORD')\n",
    "NEO4J_DATABASE = os.getenv('NEO4J_DATABASE')\n",
    "OPENAI_API_KEY = os.getenv('OPENAI_API_KEY')\n",
    "OPENAI_ENDPOINT = 'https://api.openai.com/v1/embeddings'"
   ],
   "metadata": {
    "collapsed": false,
    "ExecuteTime": {
     "end_time": "2024-08-04T02:51:24.791008Z",
     "start_time": "2024-08-04T02:51:24.786465Z"
    }
   },
   "id": "2a403532cb68fff",
   "execution_count": 50
  },
  {
   "cell_type": "code",
   "outputs": [],
   "source": [
    "# Connect to the knowledge graph instance using LangChain\n",
    "kg = Neo4jGraph(\n",
    "    url=NEO4J_URI, username=NEO4J_USERNAME, password=NEO4J_PASSWORD, database=NEO4J_DATABASE\n",
    ")"
   ],
   "metadata": {
    "collapsed": false,
    "ExecuteTime": {
     "end_time": "2024-08-04T02:51:25.400576Z",
     "start_time": "2024-08-04T02:51:25.229543Z"
    }
   },
   "id": "94fa0f386107b9a9",
   "execution_count": 51
  },
  {
   "cell_type": "markdown",
   "source": [
    "# Creating a vector index"
   ],
   "metadata": {
    "collapsed": false
   },
   "id": "b2805c2983813a83"
  },
  {
   "cell_type": "code",
   "outputs": [
    {
     "data": {
      "text/plain": "[]"
     },
     "execution_count": 52,
     "metadata": {},
     "output_type": "execute_result"
    }
   ],
   "source": [
    "kg.query(\"\"\"\n",
    "  CREATE VECTOR INDEX movie_tagline_embeddings IF NOT EXISTS\n",
    "  FOR (m:Movie) ON (m.taglineEmbedding) \n",
    "  OPTIONS { indexConfig: {\n",
    "    `vector.dimensions`: 1536,\n",
    "    `vector.similarity_function`: 'cosine'\n",
    "  }}\"\"\"\n",
    ")\n"
   ],
   "metadata": {
    "collapsed": false,
    "ExecuteTime": {
     "end_time": "2024-08-04T02:51:26.344169Z",
     "start_time": "2024-08-04T02:51:26.310912Z"
    }
   },
   "id": "ba59a4c6841254c6",
   "execution_count": 52
  },
  {
   "cell_type": "code",
   "outputs": [
    {
     "data": {
      "text/plain": "[{'id': 3,\n  'name': 'movie_tagline_embeddings',\n  'state': 'ONLINE',\n  'populationPercent': 100.0,\n  'type': 'VECTOR',\n  'entityType': 'NODE',\n  'labelsOrTypes': ['Movie'],\n  'properties': ['taglineEmbedding'],\n  'indexProvider': 'vector-2.0',\n  'owningConstraint': None,\n  'lastRead': None,\n  'readCount': 0}]"
     },
     "execution_count": 53,
     "metadata": {},
     "output_type": "execute_result"
    }
   ],
   "source": [
    "kg.query(\"\"\"\n",
    "  SHOW VECTOR INDEXES\n",
    "  \"\"\"\n",
    ")"
   ],
   "metadata": {
    "collapsed": false,
    "ExecuteTime": {
     "end_time": "2024-08-04T02:51:27.129891Z",
     "start_time": "2024-08-04T02:51:27.086118Z"
    }
   },
   "id": "189d9d4ddf769dd2",
   "execution_count": 53
  },
  {
   "cell_type": "markdown",
   "source": [
    "# Populating the vector index\n",
    "- We calculate the vector representation for each movie tagline using OPENAI\n",
    "- And we add the vector to the Moie node as taglineEmbedding propperty"
   ],
   "metadata": {
    "collapsed": false
   },
   "id": "7a73a25c3c509e"
  },
  {
   "cell_type": "code",
   "outputs": [
    {
     "data": {
      "text/plain": "[]"
     },
     "execution_count": 54,
     "metadata": {},
     "output_type": "execute_result"
    }
   ],
   "source": [
    "kg.query(\"\"\"\n",
    "    MATCH (movie:Movie) WHERE movie.tagline IS NOT NULL\n",
    "    WITH movie, genai.vector.encode(\n",
    "        movie.tagline, \n",
    "        \"OpenAI\", \n",
    "        {\n",
    "          token: $openAiApiKey,\n",
    "          endpoint: $openAiEndpoint\n",
    "        }) AS vector\n",
    "    CALL db.create.setNodeVectorProperty(movie, \"taglineEmbedding\", vector)\n",
    "    \"\"\", \n",
    "    params={\"openAiApiKey\":OPENAI_API_KEY, \"openAiEndpoint\": OPENAI_ENDPOINT} )"
   ],
   "metadata": {
    "collapsed": false,
    "ExecuteTime": {
     "end_time": "2024-08-04T02:51:49.320336Z",
     "start_time": "2024-08-04T02:51:32.829331Z"
    }
   },
   "id": "b46a55b1c50e38f4",
   "execution_count": 54
  },
  {
   "cell_type": "code",
   "outputs": [],
   "source": [
    "result = kg.query(\"\"\"\n",
    "    MATCH (m:Movie) \n",
    "    WHERE m.tagline IS NOT NULL\n",
    "    RETURN m.tagline, m.taglineEmbedding\n",
    "    LIMIT 1\n",
    "    \"\"\"\n",
    ")"
   ],
   "metadata": {
    "collapsed": false,
    "ExecuteTime": {
     "end_time": "2024-08-04T02:51:49.364230Z",
     "start_time": "2024-08-04T02:51:49.318470Z"
    }
   },
   "id": "523b800e11c01ed3",
   "execution_count": 55
  },
  {
   "cell_type": "code",
   "outputs": [
    {
     "data": {
      "text/plain": "'Welcome to the Real World'"
     },
     "execution_count": 56,
     "metadata": {},
     "output_type": "execute_result"
    }
   ],
   "source": [
    "result[0]['m.tagline']"
   ],
   "metadata": {
    "collapsed": false,
    "ExecuteTime": {
     "end_time": "2024-08-04T02:51:53.038863Z",
     "start_time": "2024-08-04T02:51:53.034500Z"
    }
   },
   "id": "5a042b856976fd55",
   "execution_count": 56
  },
  {
   "cell_type": "code",
   "outputs": [
    {
     "data": {
      "text/plain": "[0.01745212823152542,\n -0.005519301164895296,\n -0.0020570452325046062,\n -0.025549286976456642,\n -0.01436000969260931,\n 0.01671840436756611,\n -0.01708526723086834,\n 0.00047618302050977945,\n -0.025221731513738632,\n -0.029506150633096695]"
     },
     "execution_count": 57,
     "metadata": {},
     "output_type": "execute_result"
    }
   ],
   "source": [
    "result[0]['m.taglineEmbedding'][:10]"
   ],
   "metadata": {
    "collapsed": false,
    "ExecuteTime": {
     "end_time": "2024-08-04T02:51:55.461474Z",
     "start_time": "2024-08-04T02:51:55.458590Z"
    }
   },
   "id": "b49b0805b25724e8",
   "execution_count": 57
  },
  {
   "cell_type": "code",
   "outputs": [
    {
     "data": {
      "text/plain": "1536"
     },
     "execution_count": 58,
     "metadata": {},
     "output_type": "execute_result"
    }
   ],
   "source": [
    "len(result[0]['m.taglineEmbedding'])"
   ],
   "metadata": {
    "collapsed": false,
    "ExecuteTime": {
     "end_time": "2024-08-04T02:51:56.887819Z",
     "start_time": "2024-08-04T02:51:56.885461Z"
    }
   },
   "id": "727d568502eceb1",
   "execution_count": 58
  },
  {
   "cell_type": "markdown",
   "source": [
    "## Similarity Search\n",
    "- Calculate embedding for question\n",
    "- Identify matching movies based on similarity of question and taglineEmbedding vectors"
   ],
   "metadata": {
    "collapsed": false
   },
   "id": "db77e1433ab89c0c"
  },
  {
   "cell_type": "code",
   "outputs": [],
   "source": [
    "question = \"What movies are about love?\""
   ],
   "metadata": {
    "collapsed": false,
    "ExecuteTime": {
     "end_time": "2024-08-04T02:52:50.123159Z",
     "start_time": "2024-08-04T02:52:50.120387Z"
    }
   },
   "id": "a4485b75a3e1aab3",
   "execution_count": 59
  },
  {
   "cell_type": "code",
   "outputs": [
    {
     "data": {
      "text/plain": "[{'movie.title': 'Joe Versus the Volcano',\n  'movie.tagline': 'A story of love, lava and burning desire.',\n  'score': 0.9062923789024353},\n {'movie.title': 'As Good as It Gets',\n  'movie.tagline': 'A comedy from the heart that goes for the throat.',\n  'score': 0.902247428894043},\n {'movie.title': 'Snow Falling on Cedars',\n  'movie.tagline': 'First loves last. Forever.',\n  'score': 0.9013161659240723}]"
     },
     "execution_count": 61,
     "metadata": {},
     "output_type": "execute_result"
    }
   ],
   "source": [
    "kg.query(\"\"\"\n",
    "    WITH genai.vector.encode(\n",
    "        $question, \n",
    "        \"OpenAI\", \n",
    "        {\n",
    "          token: $openAiApiKey,\n",
    "          endpoint: $openAiEndpoint\n",
    "        }) AS question_embedding\n",
    "    CALL db.index.vector.queryNodes(\n",
    "        'movie_tagline_embeddings', \n",
    "        $top_k, \n",
    "        question_embedding\n",
    "        ) YIELD node AS movie, score\n",
    "    RETURN movie.title, movie.tagline, score\n",
    "    \"\"\", \n",
    "    params={\"openAiApiKey\":OPENAI_API_KEY,\n",
    "            \"openAiEndpoint\": OPENAI_ENDPOINT,\n",
    "            \"question\": question,\n",
    "            \"top_k\": 3\n",
    "            })"
   ],
   "metadata": {
    "collapsed": false,
    "ExecuteTime": {
     "end_time": "2024-08-04T02:53:06.092220Z",
     "start_time": "2024-08-04T02:53:05.120185Z"
    }
   },
   "id": "5079f7ad9e6c8713",
   "execution_count": 61
  },
  {
   "cell_type": "code",
   "outputs": [],
   "source": [
    "question = \"What movies are about adventure?\""
   ],
   "metadata": {
    "collapsed": false,
    "ExecuteTime": {
     "end_time": "2024-08-04T02:53:28.490162Z",
     "start_time": "2024-08-04T02:53:28.484970Z"
    }
   },
   "id": "e1297306d3ee7914",
   "execution_count": 62
  },
  {
   "cell_type": "code",
   "outputs": [
    {
     "data": {
      "text/plain": "[{'movie.title': 'RescueDawn',\n  'movie.tagline': \"Based on the extraordinary true story of one man's fight for freedom\",\n  'score': 0.8998041152954102},\n {'movie.title': 'Cast Away',\n  'movie.tagline': 'At the edge of the world, his journey begins.',\n  'score': 0.8985397815704346},\n {'movie.title': 'Ninja Assassin',\n  'movie.tagline': 'Prepare to enter a secret world of assassins',\n  'score': 0.8879812955856323},\n {'movie.title': 'Joe Versus the Volcano',\n  'movie.tagline': 'A story of love, lava and burning desire.',\n  'score': 0.8870335817337036},\n {'movie.title': 'As Good as It Gets',\n  'movie.tagline': 'A comedy from the heart that goes for the throat.',\n  'score': 0.8855670690536499}]"
     },
     "execution_count": 63,
     "metadata": {},
     "output_type": "execute_result"
    }
   ],
   "source": [
    "kg.query(\"\"\"\n",
    "    WITH genai.vector.encode(\n",
    "        $question, \n",
    "        \"OpenAI\", \n",
    "        {\n",
    "          token: $openAiApiKey,\n",
    "          endpoint: $openAiEndpoint\n",
    "        }) AS question_embedding\n",
    "    CALL db.index.vector.queryNodes(\n",
    "        'movie_tagline_embeddings', \n",
    "        $top_k, \n",
    "        question_embedding\n",
    "        ) YIELD node AS movie, score\n",
    "    RETURN movie.title, movie.tagline, score\n",
    "    \"\"\", \n",
    "    params={\"openAiApiKey\":OPENAI_API_KEY,\n",
    "            \"openAiEndpoint\": OPENAI_ENDPOINT,\n",
    "            \"question\": question,\n",
    "            \"top_k\": 5\n",
    "            })"
   ],
   "metadata": {
    "collapsed": false,
    "ExecuteTime": {
     "end_time": "2024-08-04T02:53:36.757779Z",
     "start_time": "2024-08-04T02:53:35.755167Z"
    }
   },
   "id": "2670f50e6dd21c5",
   "execution_count": 63
  }
 ],
 "metadata": {
  "kernelspec": {
   "display_name": "Python 3",
   "language": "python",
   "name": "python3"
  },
  "language_info": {
   "codemirror_mode": {
    "name": "ipython",
    "version": 2
   },
   "file_extension": ".py",
   "mimetype": "text/x-python",
   "name": "python",
   "nbconvert_exporter": "python",
   "pygments_lexer": "ipython2",
   "version": "2.7.6"
  }
 },
 "nbformat": 4,
 "nbformat_minor": 5
}

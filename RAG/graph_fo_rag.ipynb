{
 "cells": [
  {
   "cell_type": "markdown",
   "source": [
    "# Knowledge Graph for RAG\n",
    "This project uses the Movie Database - it is an introduction to Neo4J and Cypher language.\n",
    "https://learn.deeplearning.ai/courses/knowledge-graphs-rag/lesson/3/querying-knowledge-graphs\n",
    "## Importing libs"
   ],
   "metadata": {
    "collapsed": false
   },
   "id": "3b8b78e7c0705949"
  },
  {
   "cell_type": "code",
   "execution_count": 16,
   "id": "initial_id",
   "metadata": {
    "collapsed": true,
    "ExecuteTime": {
     "end_time": "2024-07-28T08:09:22.666386Z",
     "start_time": "2024-07-28T08:09:22.663217Z"
    }
   },
   "outputs": [],
   "source": [
    "from dotenv import load_dotenv \n",
    "import os\n",
    "from langchain_community.graphs import Neo4jGraph"
   ]
  },
  {
   "cell_type": "markdown",
   "source": [
    "# Environment variable"
   ],
   "metadata": {
    "collapsed": false
   },
   "id": "6864e28f317e1239"
  },
  {
   "cell_type": "code",
   "outputs": [],
   "source": [
    "load_dotenv('../.env.studiomac', override=True)\n",
    "\n",
    "NEO4J_URI='bolt://localhost:7687'\n",
    "NEO4J_USERNAME='neo4j'\n",
    "NEO4J_PASSWORD='####'\n",
    "AURA_INSTANCEID='####'\n",
    "AURA_INSTANCENAME='Instance01'\n",
    "NEO4J_DATABASE='neo4j'\n",
    "\n",
    "OPENAI_API_KEY = os.getenv('OPENAI_API_KEY')\n",
    "\n",
    "# Note the code below is unique to this course environment, and not a \n",
    "# standard part of Neo4j's integration with OpenAI. Remove if running \n",
    "# in your own environment.\n",
    "#OPENAI_ENDPOINT = os.getenv('OPENAI_BASE_URL') + '/embeddings'\n"
   ],
   "metadata": {
    "collapsed": false,
    "ExecuteTime": {
     "end_time": "2024-07-28T09:26:54.440993Z",
     "start_time": "2024-07-28T09:26:54.438304Z"
    }
   },
   "id": "2a403532cb68fff",
   "execution_count": 69
  },
  {
   "cell_type": "code",
   "outputs": [],
   "source": [
    "kg = Neo4jGraph(\n",
    "    url=NEO4J_URI, username=NEO4J_USERNAME, password=NEO4J_PASSWORD, database=NEO4J_DATABASE\n",
    ")"
   ],
   "metadata": {
    "collapsed": false,
    "ExecuteTime": {
     "end_time": "2024-07-28T09:28:18.890895Z",
     "start_time": "2024-07-28T09:28:18.322355Z"
    }
   },
   "id": "a12ad7281bbd9daf",
   "execution_count": 71
  },
  {
   "cell_type": "code",
   "outputs": [],
   "source": [
    "cypher = \"\"\"\n",
    "MATCH (n)\n",
    "RETURN count(n)\n",
    "\"\"\""
   ],
   "metadata": {
    "collapsed": false,
    "ExecuteTime": {
     "end_time": "2024-07-28T09:28:20.394738Z",
     "start_time": "2024-07-28T09:28:20.392566Z"
    }
   },
   "id": "3bebdc9d6870b88",
   "execution_count": 72
  },
  {
   "cell_type": "code",
   "outputs": [
    {
     "data": {
      "text/plain": "[{'count(n)': 179}]"
     },
     "execution_count": 73,
     "metadata": {},
     "output_type": "execute_result"
    }
   ],
   "source": [
    "result = kg.query(cypher)\n",
    "result"
   ],
   "metadata": {
    "collapsed": false,
    "ExecuteTime": {
     "end_time": "2024-07-28T09:28:20.891876Z",
     "start_time": "2024-07-28T09:28:20.846368Z"
    }
   },
   "id": "f6e90c96bedb4b01",
   "execution_count": 73
  },
  {
   "cell_type": "code",
   "outputs": [],
   "source": [
    "cypher = \"\"\"\n",
    "MATCH(n)\n",
    "RETURN count(n) AS numberOfNodes\"\"\""
   ],
   "metadata": {
    "collapsed": false,
    "ExecuteTime": {
     "end_time": "2024-07-28T09:29:27.636183Z",
     "start_time": "2024-07-28T09:29:27.631779Z"
    }
   },
   "id": "f0fea81dc3235d82",
   "execution_count": 74
  },
  {
   "cell_type": "code",
   "outputs": [
    {
     "data": {
      "text/plain": "[{'numberOfNodes': 179}]"
     },
     "execution_count": 76,
     "metadata": {},
     "output_type": "execute_result"
    }
   ],
   "source": [
    "result = kg.query(cypher)\n",
    "result"
   ],
   "metadata": {
    "collapsed": false,
    "ExecuteTime": {
     "end_time": "2024-07-28T09:29:40.351668Z",
     "start_time": "2024-07-28T09:29:40.323275Z"
    }
   },
   "id": "71313439f3f1903c",
   "execution_count": 76
  },
  {
   "cell_type": "code",
   "outputs": [
    {
     "name": "stdout",
     "output_type": "stream",
     "text": [
      "There are 179 nodes in this graph.\n"
     ]
    }
   ],
   "source": [
    "print(f\"There are {result[0]['numberOfNodes']} nodes in this graph.\")"
   ],
   "metadata": {
    "collapsed": false,
    "ExecuteTime": {
     "end_time": "2024-07-28T09:30:08.366224Z",
     "start_time": "2024-07-28T09:30:08.360319Z"
    }
   },
   "id": "75717ec63c4a8a00",
   "execution_count": 77
  },
  {
   "cell_type": "markdown",
   "source": [
    "- Match only the `Movie` nodes by specifying the node label"
   ],
   "metadata": {
    "collapsed": false
   },
   "id": "ae0b830bf40140e9"
  },
  {
   "cell_type": "code",
   "outputs": [
    {
     "data": {
      "text/plain": "[{'numberOfMovies': 40}]"
     },
     "execution_count": 78,
     "metadata": {},
     "output_type": "execute_result"
    }
   ],
   "source": [
    "cypher = \"\"\"\n",
    "  MATCH (n:Movie) \n",
    "  RETURN count(n) AS numberOfMovies\n",
    "  \"\"\"\n",
    "kg.query(cypher)"
   ],
   "metadata": {
    "collapsed": false,
    "ExecuteTime": {
     "end_time": "2024-07-28T09:30:33.150963Z",
     "start_time": "2024-07-28T09:30:33.113550Z"
    }
   },
   "id": "b09eeee897609a01",
   "execution_count": 78
  },
  {
   "cell_type": "code",
   "outputs": [
    {
     "data": {
      "text/plain": "[{'numberOfMovies': 40}]"
     },
     "execution_count": 79,
     "metadata": {},
     "output_type": "execute_result"
    }
   ],
   "source": [
    "cypher = \"\"\"\n",
    "  MATCH (m:Movie) \n",
    "  RETURN count(m) AS numberOfMovies\n",
    "  \"\"\"\n",
    "kg.query(cypher)"
   ],
   "metadata": {
    "collapsed": false,
    "ExecuteTime": {
     "end_time": "2024-07-28T09:30:47.659555Z",
     "start_time": "2024-07-28T09:30:47.630088Z"
    }
   },
   "id": "26fdece2d364db9",
   "execution_count": 79
  },
  {
   "cell_type": "code",
   "outputs": [
    {
     "data": {
      "text/plain": "[{'numberOfPeople': 139}]"
     },
     "execution_count": 80,
     "metadata": {},
     "output_type": "execute_result"
    }
   ],
   "source": [
    "cypher = \"\"\"\n",
    "  MATCH (people:Person) \n",
    "  RETURN count(people) AS numberOfPeople\n",
    "  \"\"\"\n",
    "kg.query(cypher)"
   ],
   "metadata": {
    "collapsed": false,
    "ExecuteTime": {
     "end_time": "2024-07-28T09:31:00.613119Z",
     "start_time": "2024-07-28T09:31:00.577953Z"
    }
   },
   "id": "3dc5c3c50ad04d11",
   "execution_count": 80
  },
  {
   "cell_type": "markdown",
   "source": [
    "- Match a single person by specifying the value of the `name` property on the `Person` node\n"
   ],
   "metadata": {
    "collapsed": false
   },
   "id": "15e7db9f35f77950"
  },
  {
   "cell_type": "code",
   "outputs": [
    {
     "data": {
      "text/plain": "[{'tom': {'born': 1956, 'name': 'Tom Hanks'}}]"
     },
     "execution_count": 81,
     "metadata": {},
     "output_type": "execute_result"
    }
   ],
   "source": [
    "cypher = \"\"\"\n",
    "  MATCH (tom:Person {name:\"Tom Hanks\"}) \n",
    "  RETURN tom\n",
    "  \"\"\"\n",
    "kg.query(cypher)"
   ],
   "metadata": {
    "collapsed": false,
    "ExecuteTime": {
     "end_time": "2024-07-28T09:32:23.691279Z",
     "start_time": "2024-07-28T09:32:23.632905Z"
    }
   },
   "id": "a081934c1aca8af3",
   "execution_count": 81
  },
  {
   "cell_type": "markdown",
   "source": [
    "- Match a single `Movie` by specifying the value of the `title` property"
   ],
   "metadata": {
    "collapsed": false
   },
   "id": "99eeb86f8b9f5668"
  },
  {
   "cell_type": "code",
   "outputs": [
    {
     "data": {
      "text/plain": "[{'cloudAtlas': {'tagline': 'Everything is connected',\n   'title': 'Cloud Atlas',\n   'released': 2012}}]"
     },
     "execution_count": 82,
     "metadata": {},
     "output_type": "execute_result"
    }
   ],
   "source": [
    "cypher = \"\"\"\n",
    "  MATCH (cloudAtlas:Movie {title:\"Cloud Atlas\"}) \n",
    "  RETURN cloudAtlas\n",
    "  \"\"\"\n",
    "kg.query(cypher)"
   ],
   "metadata": {
    "collapsed": false,
    "ExecuteTime": {
     "end_time": "2024-07-28T09:32:38.076168Z",
     "start_time": "2024-07-28T09:32:38.028028Z"
    }
   },
   "id": "812b9a40e925f8bb",
   "execution_count": 82
  },
  {
   "cell_type": "markdown",
   "source": [
    "- Return only the `released` property of the matched `Movie` node"
   ],
   "metadata": {
    "collapsed": false
   },
   "id": "26be878bf45e2123"
  },
  {
   "cell_type": "code",
   "outputs": [
    {
     "data": {
      "text/plain": "[{'cloudAtlas.released': 2012}]"
     },
     "execution_count": 83,
     "metadata": {},
     "output_type": "execute_result"
    }
   ],
   "source": [
    "cypher = \"\"\"\n",
    "  MATCH (cloudAtlas:Movie {title:\"Cloud Atlas\"}) \n",
    "  RETURN cloudAtlas.released\n",
    "  \"\"\"\n",
    "kg.query(cypher)"
   ],
   "metadata": {
    "collapsed": false,
    "ExecuteTime": {
     "end_time": "2024-07-28T09:33:02.429311Z",
     "start_time": "2024-07-28T09:33:02.384506Z"
    }
   },
   "id": "89769cc7f8dce828",
   "execution_count": 83
  },
  {
   "cell_type": "markdown",
   "source": [
    "- Return two properties"
   ],
   "metadata": {
    "collapsed": false
   },
   "id": "10c0e38303e1ca29"
  },
  {
   "cell_type": "code",
   "outputs": [
    {
     "data": {
      "text/plain": "[{'cloudAtlas.released': 2012,\n  'cloudAtlas.tagline': 'Everything is connected'}]"
     },
     "execution_count": 84,
     "metadata": {},
     "output_type": "execute_result"
    }
   ],
   "source": [
    "cypher = \"\"\"\n",
    "  MATCH (cloudAtlas:Movie {title:\"Cloud Atlas\"}) \n",
    "  RETURN cloudAtlas.released, cloudAtlas.tagline\n",
    "  \"\"\"\n",
    "kg.query(cypher)"
   ],
   "metadata": {
    "collapsed": false,
    "ExecuteTime": {
     "end_time": "2024-07-28T09:33:29.868997Z",
     "start_time": "2024-07-28T09:33:29.819210Z"
    }
   },
   "id": "bce3617683a0d2a1",
   "execution_count": 84
  },
  {
   "cell_type": "code",
   "outputs": [],
   "source": [
    "cypher = \"\"\"\n",
    "  MATCH (nineties:Movie) \n",
    "  WHERE nineties.released >= 1990 \n",
    "    AND nineties.released < 2000 \n",
    "  RETURN nineties.title\n",
    "  \"\"\"\n"
   ],
   "metadata": {
    "collapsed": false,
    "ExecuteTime": {
     "end_time": "2024-07-28T09:33:38.142788Z",
     "start_time": "2024-07-28T09:33:38.135572Z"
    }
   },
   "id": "10638e63f436ac24",
   "execution_count": 85
  },
  {
   "cell_type": "code",
   "outputs": [
    {
     "data": {
      "text/plain": "[{'nineties.title': 'The Matrix'},\n {'nineties.title': \"The Devil's Advocate\"},\n {'nineties.title': 'A Few Good Men'},\n {'nineties.title': 'As Good as It Gets'},\n {'nineties.title': 'What Dreams May Come'},\n {'nineties.title': 'Snow Falling on Cedars'},\n {'nineties.title': \"You've Got Mail\"},\n {'nineties.title': 'Sleepless in Seattle'},\n {'nineties.title': 'Joe Versus the Volcano'},\n {'nineties.title': 'When Harry Met Sally'},\n {'nineties.title': 'That Thing You Do'},\n {'nineties.title': 'The Birdcage'},\n {'nineties.title': 'Unforgiven'},\n {'nineties.title': 'Johnny Mnemonic'},\n {'nineties.title': 'The Green Mile'},\n {'nineties.title': 'Hoffa'},\n {'nineties.title': 'Apollo 13'},\n {'nineties.title': 'Twister'},\n {'nineties.title': 'Bicentennial Man'},\n {'nineties.title': 'A League of Their Own'}]"
     },
     "execution_count": 86,
     "metadata": {},
     "output_type": "execute_result"
    }
   ],
   "source": [
    "kg.query(cypher)"
   ],
   "metadata": {
    "collapsed": false,
    "ExecuteTime": {
     "end_time": "2024-07-28T09:33:52.722807Z",
     "start_time": "2024-07-28T09:33:52.659558Z"
    }
   },
   "id": "f34db7bbd67fd51d",
   "execution_count": 86
  },
  {
   "cell_type": "code",
   "outputs": [
    {
     "data": {
      "text/plain": "[{'actor.name': 'Emil Eifrem', 'movie.title': 'The Matrix'},\n {'actor.name': 'Hugo Weaving', 'movie.title': 'The Matrix'},\n {'actor.name': 'Laurence Fishburne', 'movie.title': 'The Matrix'},\n {'actor.name': 'Carrie-Anne Moss', 'movie.title': 'The Matrix'},\n {'actor.name': 'Keanu Reeves', 'movie.title': 'The Matrix'},\n {'actor.name': 'Hugo Weaving', 'movie.title': 'The Matrix Reloaded'},\n {'actor.name': 'Laurence Fishburne', 'movie.title': 'The Matrix Reloaded'},\n {'actor.name': 'Carrie-Anne Moss', 'movie.title': 'The Matrix Reloaded'},\n {'actor.name': 'Keanu Reeves', 'movie.title': 'The Matrix Reloaded'},\n {'actor.name': 'Hugo Weaving', 'movie.title': 'The Matrix Revolutions'}]"
     },
     "execution_count": 87,
     "metadata": {},
     "output_type": "execute_result"
    }
   ],
   "source": [
    "cypher = \"\"\"\n",
    "  MATCH (actor:Person)-[:ACTED_IN]->(movie:Movie) \n",
    "  RETURN actor.name, movie.title LIMIT 10\n",
    "  \"\"\"\n",
    "kg.query(cypher)"
   ],
   "metadata": {
    "collapsed": false,
    "ExecuteTime": {
     "end_time": "2024-07-28T09:34:02.359663Z",
     "start_time": "2024-07-28T09:34:02.241028Z"
    }
   },
   "id": "3c71278de9a7daa",
   "execution_count": 87
  },
  {
   "cell_type": "code",
   "outputs": [
    {
     "data": {
      "text/plain": "[{'tom.name': 'Tom Hanks', 'tomHanksMovies.title': \"You've Got Mail\"},\n {'tom.name': 'Tom Hanks', 'tomHanksMovies.title': 'Apollo 13'},\n {'tom.name': 'Tom Hanks', 'tomHanksMovies.title': 'Joe Versus the Volcano'},\n {'tom.name': 'Tom Hanks', 'tomHanksMovies.title': 'That Thing You Do'},\n {'tom.name': 'Tom Hanks', 'tomHanksMovies.title': 'Cloud Atlas'},\n {'tom.name': 'Tom Hanks', 'tomHanksMovies.title': 'The Da Vinci Code'},\n {'tom.name': 'Tom Hanks', 'tomHanksMovies.title': 'Sleepless in Seattle'},\n {'tom.name': 'Tom Hanks', 'tomHanksMovies.title': 'A League of Their Own'},\n {'tom.name': 'Tom Hanks', 'tomHanksMovies.title': 'The Green Mile'},\n {'tom.name': 'Tom Hanks', 'tomHanksMovies.title': \"Charlie Wilson's War\"},\n {'tom.name': 'Tom Hanks', 'tomHanksMovies.title': 'Cast Away'},\n {'tom.name': 'Tom Hanks', 'tomHanksMovies.title': 'The Polar Express'}]"
     },
     "execution_count": 88,
     "metadata": {},
     "output_type": "execute_result"
    }
   ],
   "source": [
    "cypher = \"\"\"\n",
    "  MATCH (tom:Person {name: \"Tom Hanks\"})-[:ACTED_IN]->(tomHanksMovies:Movie) \n",
    "  RETURN tom.name,tomHanksMovies.title\n",
    "  \"\"\"\n",
    "kg.query(cypher)"
   ],
   "metadata": {
    "collapsed": false,
    "ExecuteTime": {
     "end_time": "2024-07-28T09:34:10.317543Z",
     "start_time": "2024-07-28T09:34:10.262993Z"
    }
   },
   "id": "2187630d6dba3298",
   "execution_count": 88
  },
  {
   "cell_type": "code",
   "outputs": [
    {
     "data": {
      "text/plain": "[{'coActors.name': 'Parker Posey', 'm.title': \"You've Got Mail\"},\n {'coActors.name': 'Greg Kinnear', 'm.title': \"You've Got Mail\"},\n {'coActors.name': 'Meg Ryan', 'm.title': \"You've Got Mail\"},\n {'coActors.name': 'Steve Zahn', 'm.title': \"You've Got Mail\"},\n {'coActors.name': 'Dave Chappelle', 'm.title': \"You've Got Mail\"},\n {'coActors.name': 'Ed Harris', 'm.title': 'Apollo 13'},\n {'coActors.name': 'Kevin Bacon', 'm.title': 'Apollo 13'},\n {'coActors.name': 'Gary Sinise', 'm.title': 'Apollo 13'},\n {'coActors.name': 'Bill Paxton', 'm.title': 'Apollo 13'},\n {'coActors.name': 'Nathan Lane', 'm.title': 'Joe Versus the Volcano'},\n {'coActors.name': 'Meg Ryan', 'm.title': 'Joe Versus the Volcano'},\n {'coActors.name': 'Liv Tyler', 'm.title': 'That Thing You Do'},\n {'coActors.name': 'Charlize Theron', 'm.title': 'That Thing You Do'},\n {'coActors.name': 'Jim Broadbent', 'm.title': 'Cloud Atlas'},\n {'coActors.name': 'Halle Berry', 'm.title': 'Cloud Atlas'},\n {'coActors.name': 'Hugo Weaving', 'm.title': 'Cloud Atlas'},\n {'coActors.name': 'Audrey Tautou', 'm.title': 'The Da Vinci Code'},\n {'coActors.name': 'Ian McKellen', 'm.title': 'The Da Vinci Code'},\n {'coActors.name': 'Paul Bettany', 'm.title': 'The Da Vinci Code'},\n {'coActors.name': 'Meg Ryan', 'm.title': 'Sleepless in Seattle'},\n {'coActors.name': 'Victor Garber', 'm.title': 'Sleepless in Seattle'},\n {'coActors.name': 'Bill Pullman', 'm.title': 'Sleepless in Seattle'},\n {'coActors.name': 'Rita Wilson', 'm.title': 'Sleepless in Seattle'},\n {'coActors.name': \"Rosie O'Donnell\", 'm.title': 'Sleepless in Seattle'},\n {'coActors.name': 'Lori Petty', 'm.title': 'A League of Their Own'},\n {'coActors.name': 'Bill Paxton', 'm.title': 'A League of Their Own'},\n {'coActors.name': \"Rosie O'Donnell\", 'm.title': 'A League of Their Own'},\n {'coActors.name': 'Geena Davis', 'm.title': 'A League of Their Own'},\n {'coActors.name': 'Madonna', 'm.title': 'A League of Their Own'},\n {'coActors.name': 'Patricia Clarkson', 'm.title': 'The Green Mile'},\n {'coActors.name': 'Sam Rockwell', 'm.title': 'The Green Mile'},\n {'coActors.name': 'Gary Sinise', 'm.title': 'The Green Mile'},\n {'coActors.name': 'David Morse', 'm.title': 'The Green Mile'},\n {'coActors.name': 'Bonnie Hunt', 'm.title': 'The Green Mile'},\n {'coActors.name': 'Michael Clarke Duncan', 'm.title': 'The Green Mile'},\n {'coActors.name': 'James Cromwell', 'm.title': 'The Green Mile'},\n {'coActors.name': 'Julia Roberts', 'm.title': \"Charlie Wilson's War\"},\n {'coActors.name': 'Philip Seymour Hoffman',\n  'm.title': \"Charlie Wilson's War\"},\n {'coActors.name': 'Helen Hunt', 'm.title': 'Cast Away'}]"
     },
     "execution_count": 89,
     "metadata": {},
     "output_type": "execute_result"
    }
   ],
   "source": [
    "cypher = \"\"\"\n",
    "  MATCH (tom:Person {name:\"Tom Hanks\"})-[:ACTED_IN]->(m)<-[:ACTED_IN]-(coActors) \n",
    "  RETURN coActors.name, m.title\n",
    "  \"\"\"\n",
    "kg.query(cypher)"
   ],
   "metadata": {
    "collapsed": false,
    "ExecuteTime": {
     "end_time": "2024-07-28T09:34:17.927596Z",
     "start_time": "2024-07-28T09:34:17.856975Z"
    }
   },
   "id": "6fce78a35f922b0f",
   "execution_count": 89
  },
  {
   "cell_type": "code",
   "outputs": [
    {
     "data": {
      "text/plain": "[{'emil.name': 'Emil Eifrem', 'movie.title': 'The Matrix'}]"
     },
     "execution_count": 90,
     "metadata": {},
     "output_type": "execute_result"
    }
   ],
   "source": [
    "cypher = \"\"\"\n",
    "MATCH (emil:Person {name:\"Emil Eifrem\"})-[actedIn:ACTED_IN]->(movie:Movie)\n",
    "RETURN emil.name, movie.title\n",
    "\"\"\"\n",
    "kg.query(cypher)"
   ],
   "metadata": {
    "collapsed": false,
    "ExecuteTime": {
     "end_time": "2024-07-28T09:34:25.096673Z",
     "start_time": "2024-07-28T09:34:25.037484Z"
    }
   },
   "id": "b06d2bfce472cbda",
   "execution_count": 90
  },
  {
   "cell_type": "code",
   "outputs": [
    {
     "data": {
      "text/plain": "[]"
     },
     "execution_count": 91,
     "metadata": {},
     "output_type": "execute_result"
    }
   ],
   "source": [
    "cypher = \"\"\"\n",
    "MATCH (emil:Person {name:\"Emil Eifrem\"})-[actedIn:ACTED_IN]->(movie:Movie)\n",
    "DELETE actedIn\n",
    "\"\"\"\n",
    "kg.query(cypher)"
   ],
   "metadata": {
    "collapsed": false,
    "ExecuteTime": {
     "end_time": "2024-07-28T09:34:30.608464Z",
     "start_time": "2024-07-28T09:34:30.468725Z"
    }
   },
   "id": "ee287cb53efefdc9",
   "execution_count": 91
  },
  {
   "cell_type": "markdown",
   "source": [
    "### Adding data to a graph"
   ],
   "metadata": {
    "collapsed": false
   },
   "id": "acfc16bcd0abef0f"
  },
  {
   "cell_type": "code",
   "outputs": [
    {
     "data": {
      "text/plain": "[{'andreas': {'name': 'Andreas'}}]"
     },
     "execution_count": 92,
     "metadata": {},
     "output_type": "execute_result"
    }
   ],
   "source": [
    "cypher = \"\"\"\n",
    "CREATE (andreas:Person {name:\"Andreas\"})\n",
    "RETURN andreas\n",
    "\"\"\"\n",
    "\n",
    "kg.query(cypher)"
   ],
   "metadata": {
    "collapsed": false,
    "ExecuteTime": {
     "end_time": "2024-07-28T09:35:06.087748Z",
     "start_time": "2024-07-28T09:35:05.999556Z"
    }
   },
   "id": "5d808ccd40645273",
   "execution_count": 92
  },
  {
   "cell_type": "code",
   "outputs": [
    {
     "data": {
      "text/plain": "[{'andreas': {'name': 'Andreas'},\n  'hasRelationship': ({'name': 'Andreas'},\n   'WORKS_WITH',\n   {'born': 1978, 'name': 'Emil Eifrem'}),\n  'emil': {'born': 1978, 'name': 'Emil Eifrem'}}]"
     },
     "execution_count": 93,
     "metadata": {},
     "output_type": "execute_result"
    }
   ],
   "source": [
    "cypher = \"\"\"\n",
    "MATCH (andreas:Person {name:\"Andreas\"}), (emil:Person {name:\"Emil Eifrem\"})\n",
    "MERGE (andreas)-[hasRelationship:WORKS_WITH]->(emil)\n",
    "RETURN andreas, hasRelationship, emil\n",
    "\"\"\"\n",
    "kg.query(cypher)"
   ],
   "metadata": {
    "collapsed": false,
    "ExecuteTime": {
     "end_time": "2024-07-28T09:35:24.725543Z",
     "start_time": "2024-07-28T09:35:24.530647Z"
    }
   },
   "id": "76cbf79cb8772271",
   "execution_count": 93
  },
  {
   "cell_type": "code",
   "outputs": [],
   "source": [],
   "metadata": {
    "collapsed": false
   },
   "id": "cbd0acdcfbfab472"
  }
 ],
 "metadata": {
  "kernelspec": {
   "display_name": "Python 3",
   "language": "python",
   "name": "python3"
  },
  "language_info": {
   "codemirror_mode": {
    "name": "ipython",
    "version": 2
   },
   "file_extension": ".py",
   "mimetype": "text/x-python",
   "name": "python",
   "nbconvert_exporter": "python",
   "pygments_lexer": "ipython2",
   "version": "2.7.6"
  }
 },
 "nbformat": 4,
 "nbformat_minor": 5
}

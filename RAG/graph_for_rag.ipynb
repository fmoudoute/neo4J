{
 "cells": [
  {
   "cell_type": "markdown",
   "source": [
    "# Knowledge Graph for RAG\n",
    "This project uses the Movie Database - it is an introduction to Neo4J and Cypher language.\n",
    "https://learn.deeplearning.ai/courses/knowledge-graphs-rag/lesson/3/querying-knowledge-graphs\n",
    "## Importing libs"
   ],
   "metadata": {
    "collapsed": false
   },
   "id": "3b8b78e7c0705949"
  },
  {
   "cell_type": "code",
   "execution_count": 94,
   "id": "initial_id",
   "metadata": {
    "collapsed": true,
    "ExecuteTime": {
     "end_time": "2024-07-28T09:56:04.652912Z",
     "start_time": "2024-07-28T09:56:04.647666Z"
    }
   },
   "outputs": [],
   "source": [
    "from dotenv import load_dotenv \n",
    "import os\n",
    "from langchain_community.graphs import Neo4jGraph"
   ]
  },
  {
   "cell_type": "markdown",
   "source": [
    "# Environment variable"
   ],
   "metadata": {
    "collapsed": false
   },
   "id": "6864e28f317e1239"
  },
  {
   "cell_type": "code",
   "outputs": [],
   "source": [
    "load_dotenv('../.env.studiomac', override=True)\n",
    "\n",
    "NEO4J_URI='bolt://localhost:7687'\n",
    "NEO4J_USERNAME='neo4j'\n",
    "NEO4J_PASSWORD='###'\n",
    "AURA_INSTANCEID='###'\n",
    "AURA_INSTANCENAME='Instance01'\n",
    "NEO4J_DATABASE='neo4j'\n",
    "\n",
    "OPENAI_API_KEY = os.getenv('OPENAI_API_KEY')\n",
    "\n",
    "# Note the code below is unique to this course environment, and not a \n",
    "# standard part of Neo4j's integration with OpenAI. Remove if running \n",
    "# in your own environment.\n",
    "#OPENAI_ENDPOINT = os.getenv('OPENAI_BASE_URL') + '/embeddings'\n"
   ],
   "metadata": {
    "collapsed": false,
    "ExecuteTime": {
     "end_time": "2024-07-28T09:56:05.630551Z",
     "start_time": "2024-07-28T09:56:05.628288Z"
    }
   },
   "id": "2a403532cb68fff",
   "execution_count": 95
  },
  {
   "cell_type": "code",
   "outputs": [],
   "source": [
    "kg = Neo4jGraph(\n",
    "    url=NEO4J_URI, username=NEO4J_USERNAME, password=NEO4J_PASSWORD, database=NEO4J_DATABASE\n",
    ")"
   ],
   "metadata": {
    "collapsed": false,
    "ExecuteTime": {
     "end_time": "2024-07-28T09:56:06.167132Z",
     "start_time": "2024-07-28T09:56:06.114618Z"
    }
   },
   "id": "a12ad7281bbd9daf",
   "execution_count": 96
  },
  {
   "cell_type": "code",
   "outputs": [],
   "source": [
    "cypher = \"\"\"\n",
    "MATCH (n)\n",
    "RETURN count(n)\n",
    "\"\"\""
   ],
   "metadata": {
    "collapsed": false,
    "ExecuteTime": {
     "end_time": "2024-07-28T09:56:06.470416Z",
     "start_time": "2024-07-28T09:56:06.467537Z"
    }
   },
   "id": "3bebdc9d6870b88",
   "execution_count": 97
  },
  {
   "cell_type": "code",
   "outputs": [
    {
     "data": {
      "text/plain": "[{'count(n)': 180}]"
     },
     "execution_count": 98,
     "metadata": {},
     "output_type": "execute_result"
    }
   ],
   "source": [
    "result = kg.query(cypher)\n",
    "result"
   ],
   "metadata": {
    "collapsed": false,
    "ExecuteTime": {
     "end_time": "2024-07-28T09:56:06.887821Z",
     "start_time": "2024-07-28T09:56:06.867996Z"
    }
   },
   "id": "f6e90c96bedb4b01",
   "execution_count": 98
  },
  {
   "cell_type": "code",
   "outputs": [],
   "source": [
    "cypher = \"\"\"\n",
    "MATCH(n)\n",
    "RETURN count(n) AS numberOfNodes\"\"\""
   ],
   "metadata": {
    "collapsed": false,
    "ExecuteTime": {
     "end_time": "2024-07-28T09:56:07.252961Z",
     "start_time": "2024-07-28T09:56:07.250567Z"
    }
   },
   "id": "f0fea81dc3235d82",
   "execution_count": 99
  },
  {
   "cell_type": "code",
   "outputs": [
    {
     "data": {
      "text/plain": "[{'numberOfNodes': 180}]"
     },
     "execution_count": 100,
     "metadata": {},
     "output_type": "execute_result"
    }
   ],
   "source": [
    "result = kg.query(cypher)\n",
    "result"
   ],
   "metadata": {
    "collapsed": false,
    "ExecuteTime": {
     "end_time": "2024-07-28T09:56:07.721822Z",
     "start_time": "2024-07-28T09:56:07.711061Z"
    }
   },
   "id": "71313439f3f1903c",
   "execution_count": 100
  },
  {
   "cell_type": "code",
   "outputs": [
    {
     "name": "stdout",
     "output_type": "stream",
     "text": [
      "There are 180 nodes in this graph.\n"
     ]
    }
   ],
   "source": [
    "print(f\"There are {result[0]['numberOfNodes']} nodes in this graph.\")"
   ],
   "metadata": {
    "collapsed": false,
    "ExecuteTime": {
     "end_time": "2024-07-28T09:56:08.095760Z",
     "start_time": "2024-07-28T09:56:08.092138Z"
    }
   },
   "id": "75717ec63c4a8a00",
   "execution_count": 101
  },
  {
   "cell_type": "markdown",
   "source": [
    "- Match only the `Movie` nodes by specifying the node label"
   ],
   "metadata": {
    "collapsed": false
   },
   "id": "ae0b830bf40140e9"
  },
  {
   "cell_type": "code",
   "outputs": [
    {
     "data": {
      "text/plain": "[{'numberOfMovies': 40}]"
     },
     "execution_count": 102,
     "metadata": {},
     "output_type": "execute_result"
    }
   ],
   "source": [
    "cypher = \"\"\"\n",
    "  MATCH (n:Movie) \n",
    "  RETURN count(n) AS numberOfMovies\n",
    "  \"\"\"\n",
    "kg.query(cypher)"
   ],
   "metadata": {
    "collapsed": false,
    "ExecuteTime": {
     "end_time": "2024-07-28T09:56:08.957932Z",
     "start_time": "2024-07-28T09:56:08.938875Z"
    }
   },
   "id": "b09eeee897609a01",
   "execution_count": 102
  },
  {
   "cell_type": "code",
   "outputs": [
    {
     "data": {
      "text/plain": "[{'numberOfMovies': 40}]"
     },
     "execution_count": 103,
     "metadata": {},
     "output_type": "execute_result"
    }
   ],
   "source": [
    "cypher = \"\"\"\n",
    "  MATCH (m:Movie) \n",
    "  RETURN count(m) AS numberOfMovies\n",
    "  \"\"\"\n",
    "kg.query(cypher)"
   ],
   "metadata": {
    "collapsed": false,
    "ExecuteTime": {
     "end_time": "2024-07-28T09:56:09.389307Z",
     "start_time": "2024-07-28T09:56:09.376911Z"
    }
   },
   "id": "26fdece2d364db9",
   "execution_count": 103
  },
  {
   "cell_type": "code",
   "outputs": [
    {
     "data": {
      "text/plain": "[{'numberOfPeople': 140}]"
     },
     "execution_count": 104,
     "metadata": {},
     "output_type": "execute_result"
    }
   ],
   "source": [
    "cypher = \"\"\"\n",
    "  MATCH (people:Person) \n",
    "  RETURN count(people) AS numberOfPeople\n",
    "  \"\"\"\n",
    "kg.query(cypher)"
   ],
   "metadata": {
    "collapsed": false,
    "ExecuteTime": {
     "end_time": "2024-07-28T09:56:09.768847Z",
     "start_time": "2024-07-28T09:56:09.757992Z"
    }
   },
   "id": "3dc5c3c50ad04d11",
   "execution_count": 104
  },
  {
   "cell_type": "markdown",
   "source": [
    "- Match a single person by specifying the value of the `name` property on the `Person` node\n"
   ],
   "metadata": {
    "collapsed": false
   },
   "id": "15e7db9f35f77950"
  },
  {
   "cell_type": "code",
   "outputs": [
    {
     "data": {
      "text/plain": "[{'tom': {'born': 1956, 'name': 'Tom Hanks'}}]"
     },
     "execution_count": 105,
     "metadata": {},
     "output_type": "execute_result"
    }
   ],
   "source": [
    "cypher = \"\"\"\n",
    "  MATCH (tom:Person {name:\"Tom Hanks\"}) \n",
    "  RETURN tom\n",
    "  \"\"\"\n",
    "kg.query(cypher)"
   ],
   "metadata": {
    "collapsed": false,
    "ExecuteTime": {
     "end_time": "2024-07-28T09:56:10.711756Z",
     "start_time": "2024-07-28T09:56:10.691355Z"
    }
   },
   "id": "a081934c1aca8af3",
   "execution_count": 105
  },
  {
   "cell_type": "markdown",
   "source": [
    "- Match a single `Movie` by specifying the value of the `title` property"
   ],
   "metadata": {
    "collapsed": false
   },
   "id": "99eeb86f8b9f5668"
  },
  {
   "cell_type": "code",
   "outputs": [
    {
     "data": {
      "text/plain": "[{'cloudAtlas': {'tagline': 'Everything is connected',\n   'title': 'Cloud Atlas',\n   'released': 2012}}]"
     },
     "execution_count": 106,
     "metadata": {},
     "output_type": "execute_result"
    }
   ],
   "source": [
    "cypher = \"\"\"\n",
    "  MATCH (cloudAtlas:Movie {title:\"Cloud Atlas\"}) \n",
    "  RETURN cloudAtlas\n",
    "  \"\"\"\n",
    "kg.query(cypher)"
   ],
   "metadata": {
    "collapsed": false,
    "ExecuteTime": {
     "end_time": "2024-07-28T09:56:11.535174Z",
     "start_time": "2024-07-28T09:56:11.523811Z"
    }
   },
   "id": "812b9a40e925f8bb",
   "execution_count": 106
  },
  {
   "cell_type": "markdown",
   "source": [
    "- Return only the `released` property of the matched `Movie` node"
   ],
   "metadata": {
    "collapsed": false
   },
   "id": "26be878bf45e2123"
  },
  {
   "cell_type": "code",
   "outputs": [
    {
     "data": {
      "text/plain": "[{'cloudAtlas.released': 2012}]"
     },
     "execution_count": 107,
     "metadata": {},
     "output_type": "execute_result"
    }
   ],
   "source": [
    "cypher = \"\"\"\n",
    "  MATCH (cloudAtlas:Movie {title:\"Cloud Atlas\"}) \n",
    "  RETURN cloudAtlas.released\n",
    "  \"\"\"\n",
    "kg.query(cypher)"
   ],
   "metadata": {
    "collapsed": false,
    "ExecuteTime": {
     "end_time": "2024-07-28T09:56:12.377284Z",
     "start_time": "2024-07-28T09:56:12.365554Z"
    }
   },
   "id": "89769cc7f8dce828",
   "execution_count": 107
  },
  {
   "cell_type": "markdown",
   "source": [
    "- Return two properties"
   ],
   "metadata": {
    "collapsed": false
   },
   "id": "10c0e38303e1ca29"
  },
  {
   "cell_type": "code",
   "outputs": [
    {
     "data": {
      "text/plain": "[{'cloudAtlas.released': 2012,\n  'cloudAtlas.tagline': 'Everything is connected'}]"
     },
     "execution_count": 108,
     "metadata": {},
     "output_type": "execute_result"
    }
   ],
   "source": [
    "cypher = \"\"\"\n",
    "  MATCH (cloudAtlas:Movie {title:\"Cloud Atlas\"}) \n",
    "  RETURN cloudAtlas.released, cloudAtlas.tagline\n",
    "  \"\"\"\n",
    "kg.query(cypher)"
   ],
   "metadata": {
    "collapsed": false,
    "ExecuteTime": {
     "end_time": "2024-07-28T09:56:13.151826Z",
     "start_time": "2024-07-28T09:56:13.142496Z"
    }
   },
   "id": "bce3617683a0d2a1",
   "execution_count": 108
  },
  {
   "cell_type": "code",
   "outputs": [],
   "source": [
    "cypher = \"\"\"\n",
    "  MATCH (nineties:Movie) \n",
    "  WHERE nineties.released >= 1990 \n",
    "    AND nineties.released < 2000 \n",
    "  RETURN nineties.title\n",
    "  \"\"\"\n"
   ],
   "metadata": {
    "collapsed": false,
    "ExecuteTime": {
     "end_time": "2024-07-28T09:56:13.531690Z",
     "start_time": "2024-07-28T09:56:13.525962Z"
    }
   },
   "id": "10638e63f436ac24",
   "execution_count": 109
  },
  {
   "cell_type": "code",
   "outputs": [
    {
     "data": {
      "text/plain": "[{'nineties.title': 'The Matrix'},\n {'nineties.title': \"The Devil's Advocate\"},\n {'nineties.title': 'A Few Good Men'},\n {'nineties.title': 'As Good as It Gets'},\n {'nineties.title': 'What Dreams May Come'},\n {'nineties.title': 'Snow Falling on Cedars'},\n {'nineties.title': \"You've Got Mail\"},\n {'nineties.title': 'Sleepless in Seattle'},\n {'nineties.title': 'Joe Versus the Volcano'},\n {'nineties.title': 'When Harry Met Sally'},\n {'nineties.title': 'That Thing You Do'},\n {'nineties.title': 'The Birdcage'},\n {'nineties.title': 'Unforgiven'},\n {'nineties.title': 'Johnny Mnemonic'},\n {'nineties.title': 'The Green Mile'},\n {'nineties.title': 'Hoffa'},\n {'nineties.title': 'Apollo 13'},\n {'nineties.title': 'Twister'},\n {'nineties.title': 'Bicentennial Man'},\n {'nineties.title': 'A League of Their Own'}]"
     },
     "execution_count": 110,
     "metadata": {},
     "output_type": "execute_result"
    }
   ],
   "source": [
    "kg.query(cypher)"
   ],
   "metadata": {
    "collapsed": false,
    "ExecuteTime": {
     "end_time": "2024-07-28T09:56:13.790346Z",
     "start_time": "2024-07-28T09:56:13.768040Z"
    }
   },
   "id": "f34db7bbd67fd51d",
   "execution_count": 110
  },
  {
   "cell_type": "code",
   "outputs": [
    {
     "data": {
      "text/plain": "[{'actor.name': 'Hugo Weaving', 'movie.title': 'The Matrix'},\n {'actor.name': 'Laurence Fishburne', 'movie.title': 'The Matrix'},\n {'actor.name': 'Carrie-Anne Moss', 'movie.title': 'The Matrix'},\n {'actor.name': 'Keanu Reeves', 'movie.title': 'The Matrix'},\n {'actor.name': 'Hugo Weaving', 'movie.title': 'The Matrix Reloaded'},\n {'actor.name': 'Laurence Fishburne', 'movie.title': 'The Matrix Reloaded'},\n {'actor.name': 'Carrie-Anne Moss', 'movie.title': 'The Matrix Reloaded'},\n {'actor.name': 'Keanu Reeves', 'movie.title': 'The Matrix Reloaded'},\n {'actor.name': 'Hugo Weaving', 'movie.title': 'The Matrix Revolutions'},\n {'actor.name': 'Laurence Fishburne', 'movie.title': 'The Matrix Revolutions'}]"
     },
     "execution_count": 111,
     "metadata": {},
     "output_type": "execute_result"
    }
   ],
   "source": [
    "cypher = \"\"\"\n",
    "  MATCH (actor:Person)-[:ACTED_IN]->(movie:Movie) \n",
    "  RETURN actor.name, movie.title LIMIT 10\n",
    "  \"\"\"\n",
    "kg.query(cypher)"
   ],
   "metadata": {
    "collapsed": false,
    "ExecuteTime": {
     "end_time": "2024-07-28T09:56:13.940634Z",
     "start_time": "2024-07-28T09:56:13.919896Z"
    }
   },
   "id": "3c71278de9a7daa",
   "execution_count": 111
  },
  {
   "cell_type": "code",
   "outputs": [
    {
     "data": {
      "text/plain": "[{'tom.name': 'Tom Hanks', 'tomHanksMovies.title': \"You've Got Mail\"},\n {'tom.name': 'Tom Hanks', 'tomHanksMovies.title': 'Apollo 13'},\n {'tom.name': 'Tom Hanks', 'tomHanksMovies.title': 'Joe Versus the Volcano'},\n {'tom.name': 'Tom Hanks', 'tomHanksMovies.title': 'That Thing You Do'},\n {'tom.name': 'Tom Hanks', 'tomHanksMovies.title': 'Cloud Atlas'},\n {'tom.name': 'Tom Hanks', 'tomHanksMovies.title': 'The Da Vinci Code'},\n {'tom.name': 'Tom Hanks', 'tomHanksMovies.title': 'Sleepless in Seattle'},\n {'tom.name': 'Tom Hanks', 'tomHanksMovies.title': 'A League of Their Own'},\n {'tom.name': 'Tom Hanks', 'tomHanksMovies.title': 'The Green Mile'},\n {'tom.name': 'Tom Hanks', 'tomHanksMovies.title': \"Charlie Wilson's War\"},\n {'tom.name': 'Tom Hanks', 'tomHanksMovies.title': 'Cast Away'},\n {'tom.name': 'Tom Hanks', 'tomHanksMovies.title': 'The Polar Express'}]"
     },
     "execution_count": 112,
     "metadata": {},
     "output_type": "execute_result"
    }
   ],
   "source": [
    "cypher = \"\"\"\n",
    "  MATCH (tom:Person {name: \"Tom Hanks\"})-[:ACTED_IN]->(tomHanksMovies:Movie) \n",
    "  RETURN tom.name,tomHanksMovies.title\n",
    "  \"\"\"\n",
    "kg.query(cypher)"
   ],
   "metadata": {
    "collapsed": false,
    "ExecuteTime": {
     "end_time": "2024-07-28T09:56:14.062218Z",
     "start_time": "2024-07-28T09:56:14.041944Z"
    }
   },
   "id": "2187630d6dba3298",
   "execution_count": 112
  },
  {
   "cell_type": "code",
   "outputs": [
    {
     "data": {
      "text/plain": "[{'coActors.name': 'Parker Posey', 'm.title': \"You've Got Mail\"},\n {'coActors.name': 'Greg Kinnear', 'm.title': \"You've Got Mail\"},\n {'coActors.name': 'Meg Ryan', 'm.title': \"You've Got Mail\"},\n {'coActors.name': 'Steve Zahn', 'm.title': \"You've Got Mail\"},\n {'coActors.name': 'Dave Chappelle', 'm.title': \"You've Got Mail\"},\n {'coActors.name': 'Ed Harris', 'm.title': 'Apollo 13'},\n {'coActors.name': 'Kevin Bacon', 'm.title': 'Apollo 13'},\n {'coActors.name': 'Gary Sinise', 'm.title': 'Apollo 13'},\n {'coActors.name': 'Bill Paxton', 'm.title': 'Apollo 13'},\n {'coActors.name': 'Nathan Lane', 'm.title': 'Joe Versus the Volcano'},\n {'coActors.name': 'Meg Ryan', 'm.title': 'Joe Versus the Volcano'},\n {'coActors.name': 'Liv Tyler', 'm.title': 'That Thing You Do'},\n {'coActors.name': 'Charlize Theron', 'm.title': 'That Thing You Do'},\n {'coActors.name': 'Jim Broadbent', 'm.title': 'Cloud Atlas'},\n {'coActors.name': 'Halle Berry', 'm.title': 'Cloud Atlas'},\n {'coActors.name': 'Hugo Weaving', 'm.title': 'Cloud Atlas'},\n {'coActors.name': 'Audrey Tautou', 'm.title': 'The Da Vinci Code'},\n {'coActors.name': 'Ian McKellen', 'm.title': 'The Da Vinci Code'},\n {'coActors.name': 'Paul Bettany', 'm.title': 'The Da Vinci Code'},\n {'coActors.name': 'Meg Ryan', 'm.title': 'Sleepless in Seattle'},\n {'coActors.name': 'Victor Garber', 'm.title': 'Sleepless in Seattle'},\n {'coActors.name': 'Bill Pullman', 'm.title': 'Sleepless in Seattle'},\n {'coActors.name': 'Rita Wilson', 'm.title': 'Sleepless in Seattle'},\n {'coActors.name': \"Rosie O'Donnell\", 'm.title': 'Sleepless in Seattle'},\n {'coActors.name': 'Lori Petty', 'm.title': 'A League of Their Own'},\n {'coActors.name': 'Bill Paxton', 'm.title': 'A League of Their Own'},\n {'coActors.name': \"Rosie O'Donnell\", 'm.title': 'A League of Their Own'},\n {'coActors.name': 'Geena Davis', 'm.title': 'A League of Their Own'},\n {'coActors.name': 'Madonna', 'm.title': 'A League of Their Own'},\n {'coActors.name': 'Patricia Clarkson', 'm.title': 'The Green Mile'},\n {'coActors.name': 'Sam Rockwell', 'm.title': 'The Green Mile'},\n {'coActors.name': 'Gary Sinise', 'm.title': 'The Green Mile'},\n {'coActors.name': 'David Morse', 'm.title': 'The Green Mile'},\n {'coActors.name': 'Bonnie Hunt', 'm.title': 'The Green Mile'},\n {'coActors.name': 'Michael Clarke Duncan', 'm.title': 'The Green Mile'},\n {'coActors.name': 'James Cromwell', 'm.title': 'The Green Mile'},\n {'coActors.name': 'Julia Roberts', 'm.title': \"Charlie Wilson's War\"},\n {'coActors.name': 'Philip Seymour Hoffman',\n  'm.title': \"Charlie Wilson's War\"},\n {'coActors.name': 'Helen Hunt', 'm.title': 'Cast Away'}]"
     },
     "execution_count": 113,
     "metadata": {},
     "output_type": "execute_result"
    }
   ],
   "source": [
    "cypher = \"\"\"\n",
    "  MATCH (tom:Person {name:\"Tom Hanks\"})-[:ACTED_IN]->(m)<-[:ACTED_IN]-(coActors) \n",
    "  RETURN coActors.name, m.title\n",
    "  \"\"\"\n",
    "kg.query(cypher)"
   ],
   "metadata": {
    "collapsed": false,
    "ExecuteTime": {
     "end_time": "2024-07-28T09:56:14.321867Z",
     "start_time": "2024-07-28T09:56:14.301723Z"
    }
   },
   "id": "6fce78a35f922b0f",
   "execution_count": 113
  },
  {
   "cell_type": "code",
   "outputs": [
    {
     "data": {
      "text/plain": "[]"
     },
     "execution_count": 114,
     "metadata": {},
     "output_type": "execute_result"
    }
   ],
   "source": [
    "cypher = \"\"\"\n",
    "MATCH (emil:Person {name:\"Emil Eifrem\"})-[actedIn:ACTED_IN]->(movie:Movie)\n",
    "RETURN emil.name, movie.title\n",
    "\"\"\"\n",
    "kg.query(cypher)"
   ],
   "metadata": {
    "collapsed": false,
    "ExecuteTime": {
     "end_time": "2024-07-28T09:56:14.613491Z",
     "start_time": "2024-07-28T09:56:14.601745Z"
    }
   },
   "id": "b06d2bfce472cbda",
   "execution_count": 114
  },
  {
   "cell_type": "code",
   "outputs": [
    {
     "data": {
      "text/plain": "[]"
     },
     "execution_count": 115,
     "metadata": {},
     "output_type": "execute_result"
    }
   ],
   "source": [
    "cypher = \"\"\"\n",
    "MATCH (emil:Person {name:\"Emil Eifrem\"})-[actedIn:ACTED_IN]->(movie:Movie)\n",
    "DELETE actedIn\n",
    "\"\"\"\n",
    "kg.query(cypher)"
   ],
   "metadata": {
    "collapsed": false,
    "ExecuteTime": {
     "end_time": "2024-07-28T09:56:14.876123Z",
     "start_time": "2024-07-28T09:56:14.860474Z"
    }
   },
   "id": "ee287cb53efefdc9",
   "execution_count": 115
  },
  {
   "cell_type": "markdown",
   "source": [
    "### Adding data to a graph"
   ],
   "metadata": {
    "collapsed": false
   },
   "id": "acfc16bcd0abef0f"
  },
  {
   "cell_type": "code",
   "outputs": [
    {
     "data": {
      "text/plain": "[{'andreas': {'name': 'Andreas'}}]"
     },
     "execution_count": 116,
     "metadata": {},
     "output_type": "execute_result"
    }
   ],
   "source": [
    "cypher = \"\"\"\n",
    "CREATE (andreas:Person {name:\"Andreas\"})\n",
    "RETURN andreas\n",
    "\"\"\"\n",
    "\n",
    "kg.query(cypher)"
   ],
   "metadata": {
    "collapsed": false,
    "ExecuteTime": {
     "end_time": "2024-07-28T09:56:15.451230Z",
     "start_time": "2024-07-28T09:56:15.427748Z"
    }
   },
   "id": "5d808ccd40645273",
   "execution_count": 116
  },
  {
   "cell_type": "code",
   "outputs": [
    {
     "data": {
      "text/plain": "[{'andreas': {'name': 'Andreas'},\n  'hasRelationship': ({'name': 'Andreas'},\n   'WORKS_WITH',\n   {'born': 1978, 'name': 'Emil Eifrem'}),\n  'emil': {'born': 1978, 'name': 'Emil Eifrem'}},\n {'andreas': {'name': 'Andreas'},\n  'hasRelationship': ({'name': 'Andreas'},\n   'WORKS_WITH',\n   {'born': 1978, 'name': 'Emil Eifrem'}),\n  'emil': {'born': 1978, 'name': 'Emil Eifrem'}}]"
     },
     "execution_count": 117,
     "metadata": {},
     "output_type": "execute_result"
    }
   ],
   "source": [
    "cypher = \"\"\"\n",
    "MATCH (andreas:Person {name:\"Andreas\"}), (emil:Person {name:\"Emil Eifrem\"})\n",
    "MERGE (andreas)-[hasRelationship:WORKS_WITH]->(emil)\n",
    "RETURN andreas, hasRelationship, emil\n",
    "\"\"\"\n",
    "kg.query(cypher)"
   ],
   "metadata": {
    "collapsed": false,
    "ExecuteTime": {
     "end_time": "2024-07-28T09:56:15.849209Z",
     "start_time": "2024-07-28T09:56:15.823178Z"
    }
   },
   "id": "76cbf79cb8772271",
   "execution_count": 117
  }
 ],
 "metadata": {
  "kernelspec": {
   "display_name": "Python 3",
   "language": "python",
   "name": "python3"
  },
  "language_info": {
   "codemirror_mode": {
    "name": "ipython",
    "version": 2
   },
   "file_extension": ".py",
   "mimetype": "text/x-python",
   "name": "python",
   "nbconvert_exporter": "python",
   "pygments_lexer": "ipython2",
   "version": "2.7.6"
  }
 },
 "nbformat": 4,
 "nbformat_minor": 5
}
